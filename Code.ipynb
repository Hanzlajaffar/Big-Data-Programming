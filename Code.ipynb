{
  "nbformat": 4,
  "nbformat_minor": 0,
  "metadata": {
    "colab": {
      "name": "Untitled0.ipynb",
      "provenance": [],
      "collapsed_sections": []
    },
    "kernelspec": {
      "name": "python3",
      "display_name": "Python 3"
    },
    "language_info": {
      "name": "python"
    }
  },
  "cells": [
    {
      "cell_type": "markdown",
      "source": [
        "Importing the Dependencies "
      ],
      "metadata": {
        "id": "rj9J5YYgC19I"
      }
    },
    {
      "cell_type": "code",
      "source": [
        "import numpy as np"
      ],
      "metadata": {
        "id": "rxjVIZsgC8Va"
      },
      "execution_count": 1,
      "outputs": []
    },
    {
      "cell_type": "code",
      "source": [
        "import pandas as pd\n"
      ],
      "metadata": {
        "id": "8AgG_55ODAOq"
      },
      "execution_count": 2,
      "outputs": []
    },
    {
      "cell_type": "code",
      "source": [
        "pip install pyspark"
      ],
      "metadata": {
        "colab": {
          "base_uri": "https://localhost:8080/"
        },
        "id": "PZnea0W5aZyb",
        "outputId": "a6b7ba70-3786-469e-e647-04e2c1dd2899"
      },
      "execution_count": 3,
      "outputs": [
        {
          "output_type": "stream",
          "name": "stdout",
          "text": [
            "Looking in indexes: https://pypi.org/simple, https://us-python.pkg.dev/colab-wheels/public/simple/\n",
            "Requirement already satisfied: pyspark in /usr/local/lib/python3.7/dist-packages (3.3.0)\n",
            "Requirement already satisfied: py4j==0.10.9.5 in /usr/local/lib/python3.7/dist-packages (from pyspark) (0.10.9.5)\n"
          ]
        }
      ]
    },
    {
      "cell_type": "code",
      "source": [
        "from pyspark import SparkContext"
      ],
      "metadata": {
        "id": "PhZAwy1naiEA"
      },
      "execution_count": 4,
      "outputs": []
    },
    {
      "cell_type": "code",
      "source": [
        "# train_test_split function allow us to split data into trainy data or test data\n",
        "from sklearn.model_selection import train_test_split"
      ],
      "metadata": {
        "id": "E0BmOipzDCKh"
      },
      "execution_count": 5,
      "outputs": []
    },
    {
      "cell_type": "code",
      "source": [
        "from sklearn.linear_model import LogisticRegression\n",
        "from sklearn.ensemble import RandomForestClassifier\n",
        "from sklearn.naive_bayes import GaussianNB\n",
        "from sklearn.tree import DecisionTreeClassifier\n",
        "from sklearn.metrics import accuracy_score"
      ],
      "metadata": {
        "id": "AWwmXER8DaMU"
      },
      "execution_count": 6,
      "outputs": []
    },
    {
      "cell_type": "code",
      "source": [
        "# loading the data set into pandas dataframe\n",
        "credit_data = pd.read_csv(\"/content/creditcard.csv\")"
      ],
      "metadata": {
        "id": "I6VM6Uu8Dj6-"
      },
      "execution_count": 7,
      "outputs": []
    },
    {
      "cell_type": "code",
      "source": [
        "# first five rows of the dataset\n",
        "credit_data.head()"
      ],
      "metadata": {
        "id": "JB7l8kvmcyhh"
      },
      "execution_count": null,
      "outputs": []
    },
    {
      "cell_type": "code",
      "source": [
        "# dataset info\n",
        "credit_data.info()"
      ],
      "metadata": {
        "id": "Bf0UTAZghQql"
      },
      "execution_count": null,
      "outputs": []
    },
    {
      "cell_type": "code",
      "source": [
        "# last rows in dataset\n",
        "credit_data.tail()"
      ],
      "metadata": {
        "id": "KywwX9w-hZ0x"
      },
      "execution_count": null,
      "outputs": []
    },
    {
      "cell_type": "code",
      "source": [
        "# checking missing values in data set\n",
        "credit_data.isnull().sum()"
      ],
      "metadata": {
        "id": "iLN5p7L4hn35"
      },
      "execution_count": null,
      "outputs": []
    },
    {
      "cell_type": "code",
      "source": [
        "# checking normal transactions and fraud transactions\n",
        "credit_data['Class'].value_counts()"
      ],
      "metadata": {
        "id": "r1qeTTwNiOOM"
      },
      "execution_count": null,
      "outputs": []
    },
    {
      "cell_type": "markdown",
      "source": [
        "This data set is unbalanced\n",
        "\n",
        "In this data set 0 shows normal transactions and 1 shows fraud transactions"
      ],
      "metadata": {
        "id": "F7n5KCouo0Ev"
      }
    },
    {
      "cell_type": "code",
      "source": [
        "# split the data set for better analysis\n",
        "normal = credit_data[credit_data.Class == 0]\n",
        "fraud = credit_data[credit_data.Class == 1]"
      ],
      "metadata": {
        "id": "CwEpe5KOnr6N"
      },
      "execution_count": 13,
      "outputs": []
    },
    {
      "cell_type": "code",
      "source": [
        "# we are printing upper values\n",
        "print(normal.shape)\n",
        "print(fraud.shape)"
      ],
      "metadata": {
        "id": "VyYOTZkfqFq4"
      },
      "execution_count": null,
      "outputs": []
    },
    {
      "cell_type": "code",
      "source": [
        "# measures of the data\n",
        "normal.Amount.describe()"
      ],
      "metadata": {
        "id": "DjbdLCZ9qQuO"
      },
      "execution_count": null,
      "outputs": []
    },
    {
      "cell_type": "code",
      "source": [
        "fraud.Amount.describe()"
      ],
      "metadata": {
        "id": "-6iOsv68IEjV"
      },
      "execution_count": null,
      "outputs": []
    },
    {
      "cell_type": "code",
      "source": [
        "# now we are going to compare the value of both normal or fraud transactions\n",
        "credit_data.groupby('Class').mean()"
      ],
      "metadata": {
        "id": "-0zzdCw3KY5-"
      },
      "execution_count": null,
      "outputs": []
    },
    {
      "cell_type": "code",
      "source": [
        "normal_data = normal.sample(n=38)"
      ],
      "metadata": {
        "id": "kf4BtF4lKzd7"
      },
      "execution_count": 18,
      "outputs": []
    },
    {
      "cell_type": "code",
      "source": [
        "# now we mixing two dataframes\n",
        "new_data = pd.concat([normal_data, fraud], axis=0)"
      ],
      "metadata": {
        "id": "vWGOu8R6TUHw"
      },
      "execution_count": 19,
      "outputs": []
    },
    {
      "cell_type": "code",
      "source": [
        " new_data.head()"
      ],
      "metadata": {
        "id": "OM1y6oGIT23h"
      },
      "execution_count": null,
      "outputs": []
    },
    {
      "cell_type": "code",
      "source": [
        "new_data.tail()"
      ],
      "metadata": {
        "id": "-40_ydB0aAwT"
      },
      "execution_count": null,
      "outputs": []
    },
    {
      "cell_type": "code",
      "source": [
        "new_data['Class'].value_counts()"
      ],
      "metadata": {
        "id": "SnvB90-laCfG"
      },
      "execution_count": null,
      "outputs": []
    },
    {
      "cell_type": "code",
      "source": [
        "new_data.groupby('Class').mean()"
      ],
      "metadata": {
        "id": "Bq--tNsnaP8X"
      },
      "execution_count": null,
      "outputs": []
    },
    {
      "cell_type": "markdown",
      "source": [
        "Splitting the data into features and targets \n",
        "Here features are V1, V2 etc...\n",
        "And targets are nothing else but 0 or 1 that show normal or fraud transaction"
      ],
      "metadata": {
        "id": "jjVEgmMhbxdH"
      }
    },
    {
      "cell_type": "code",
      "source": [
        "X = new_data.drop(columns = 'Class', axis = 1)\n",
        "Y = new_data['Class']"
      ],
      "metadata": {
        "id": "23RK11TSbV7S"
      },
      "execution_count": 24,
      "outputs": []
    },
    {
      "cell_type": "code",
      "source": [
        "print(X)"
      ],
      "metadata": {
        "id": "8Nh1tQYscazV"
      },
      "execution_count": null,
      "outputs": []
    },
    {
      "cell_type": "code",
      "source": [
        "print(Y)"
      ],
      "metadata": {
        "id": "vUUt19iBcduc"
      },
      "execution_count": null,
      "outputs": []
    },
    {
      "cell_type": "markdown",
      "source": [
        "Now we are going to split data into training data or testing data for machine learning"
      ],
      "metadata": {
        "id": "CUuRyYVHcy36"
      }
    },
    {
      "cell_type": "code",
      "source": [
        "X_train, X_test, Y_train, Y_test = train_test_split(X, Y, test_size=0.2, stratify=Y, random_state=2)"
      ],
      "metadata": {
        "id": "bp1oISu7cpu_"
      },
      "execution_count": 27,
      "outputs": []
    },
    {
      "cell_type": "code",
      "source": [
        "print(X.shape, X_train.shape, X_test.shape)"
      ],
      "metadata": {
        "id": "nhYHWcCnq983"
      },
      "execution_count": null,
      "outputs": []
    },
    {
      "cell_type": "markdown",
      "source": [
        "Now we willl train our model\n",
        "\n",
        "Here i am using logistic regression model"
      ],
      "metadata": {
        "id": "oFK-AqU7woIW"
      }
    },
    {
      "cell_type": "code",
      "source": [
        "model = LogisticRegression()"
      ],
      "metadata": {
        "id": "MauZSVIMvel7"
      },
      "execution_count": 29,
      "outputs": []
    },
    {
      "cell_type": "code",
      "source": [
        "# By using training data we are going to train our model\n",
        "model.fit(X_train, Y_train)"
      ],
      "metadata": {
        "colab": {
          "base_uri": "https://localhost:8080/"
        },
        "id": "8dgKZAqdxANt",
        "outputId": "62f7886c-4610-4691-966e-772aba28fd54"
      },
      "execution_count": 30,
      "outputs": [
        {
          "output_type": "execute_result",
          "data": {
            "text/plain": [
              "LogisticRegression()"
            ]
          },
          "metadata": {},
          "execution_count": 30
        }
      ]
    },
    {
      "cell_type": "markdown",
      "source": [
        "Performance of model"
      ],
      "metadata": {
        "id": "Zb13oHakF_EG"
      }
    },
    {
      "cell_type": "code",
      "source": [
        "training_data_prediction = model.predict(X_train)\n",
        "training_data_accuracy = accuracy_score(training_data_prediction, Y_train)"
      ],
      "metadata": {
        "id": "k4KGcwvZxyAI"
      },
      "execution_count": 31,
      "outputs": []
    },
    {
      "cell_type": "code",
      "source": [
        "print(\"Training data accuracy is: \", training_data_accuracy)"
      ],
      "metadata": {
        "colab": {
          "base_uri": "https://localhost:8080/"
        },
        "id": "55-8U15KHifl",
        "outputId": "a9250021-0c6e-41f6-9528-b722d425a9df"
      },
      "execution_count": 32,
      "outputs": [
        {
          "output_type": "stream",
          "name": "stdout",
          "text": [
            "Training data accuracy is:  0.9605633802816902\n"
          ]
        }
      ]
    },
    {
      "cell_type": "code",
      "source": [
        "testing_data_prediction = model.predict(X_test)\n",
        "testing_data_accuracy = accuracy_score(testing_data_prediction, Y_test)"
      ],
      "metadata": {
        "id": "rnx37ns3IK4L"
      },
      "execution_count": 33,
      "outputs": []
    },
    {
      "cell_type": "code",
      "source": [
        "print(\"Tedsting data accuracy is:\", testing_data_accuracy)"
      ],
      "metadata": {
        "id": "RlJ4kllUI47Z"
      },
      "execution_count": null,
      "outputs": []
    },
    {
      "cell_type": "code",
      "source": [
        "model2 = GaussianNB()"
      ],
      "metadata": {
        "id": "WZ_JRSpDJH0i"
      },
      "execution_count": 35,
      "outputs": []
    },
    {
      "cell_type": "code",
      "source": [
        "model2.fit(X_train, Y_train)"
      ],
      "metadata": {
        "colab": {
          "base_uri": "https://localhost:8080/"
        },
        "id": "8ZFkYwoMdCsO",
        "outputId": "61c4b36b-09c3-4fee-ad16-52beab8f9f5b"
      },
      "execution_count": 36,
      "outputs": [
        {
          "output_type": "execute_result",
          "data": {
            "text/plain": [
              "GaussianNB()"
            ]
          },
          "metadata": {},
          "execution_count": 36
        }
      ]
    },
    {
      "cell_type": "code",
      "source": [
        "training_data_prediction2 = model.predict(X_train)\n",
        "training_data_accuracy2 = accuracy_score(training_data_prediction2, Y_train)"
      ],
      "metadata": {
        "id": "dpajA20xdNUU"
      },
      "execution_count": 37,
      "outputs": []
    },
    {
      "cell_type": "code",
      "source": [
        "print(\"Accuracy of training data through GuaddianNB model is :\", training_data_accuracy2)"
      ],
      "metadata": {
        "colab": {
          "base_uri": "https://localhost:8080/"
        },
        "id": "S24-IhWad0ls",
        "outputId": "3f314c95-536a-412d-a9fb-6c3034c4f948"
      },
      "execution_count": 38,
      "outputs": [
        {
          "output_type": "stream",
          "name": "stdout",
          "text": [
            "Accuracy of training data through GuaddianNB model is : 0.9605633802816902\n"
          ]
        }
      ]
    },
    {
      "cell_type": "code",
      "source": [
        "testing_data_prediction2 = model.predict(X_test)\n",
        "testing_data_accuracy2 = accuracy_score(testing_data_prediction2, Y_test)"
      ],
      "metadata": {
        "id": "rWSDAcJ1eVBo"
      },
      "execution_count": 39,
      "outputs": []
    },
    {
      "cell_type": "code",
      "source": [
        "print(\"Accuracy of testing data through GuassianNM bodel is :\", testing_data_accuracy2)"
      ],
      "metadata": {
        "colab": {
          "base_uri": "https://localhost:8080/"
        },
        "id": "B6Lskg4mgUht",
        "outputId": "6c909ad3-fd9f-465a-ffb6-ef6b0490b2e3"
      },
      "execution_count": 40,
      "outputs": [
        {
          "output_type": "stream",
          "name": "stdout",
          "text": [
            "Accuracy of testing data through GuassianNM bodel is : 0.9438202247191011\n"
          ]
        }
      ]
    },
    {
      "cell_type": "code",
      "source": [
        "model3 = RandomForestClassifier()"
      ],
      "metadata": {
        "id": "2h7rY-qxgvWc"
      },
      "execution_count": 41,
      "outputs": []
    },
    {
      "cell_type": "code",
      "source": [
        "model3.fit(X_train, Y_train)"
      ],
      "metadata": {
        "colab": {
          "base_uri": "https://localhost:8080/"
        },
        "id": "woK5pjRmhDsX",
        "outputId": "e9774914-70f6-454e-f1c5-ce7e7af642c8"
      },
      "execution_count": 42,
      "outputs": [
        {
          "output_type": "execute_result",
          "data": {
            "text/plain": [
              "RandomForestClassifier()"
            ]
          },
          "metadata": {},
          "execution_count": 42
        }
      ]
    },
    {
      "cell_type": "code",
      "source": [
        "training_data_prediction3 = model3.predict(X_train)\n",
        "training_data_accuracy3 = accuracy_score(training_data_prediction3, Y_train)"
      ],
      "metadata": {
        "id": "vHoVjSGghM5q"
      },
      "execution_count": 43,
      "outputs": []
    },
    {
      "cell_type": "code",
      "source": [
        "print(\"Accuracy of training data through RandonForestModel is :\", training_data_accuracy3)"
      ],
      "metadata": {
        "colab": {
          "base_uri": "https://localhost:8080/"
        },
        "id": "LfucA3HohfKO",
        "outputId": "07934f5b-73e9-485f-fd6c-e2e0f2e9daf1"
      },
      "execution_count": 44,
      "outputs": [
        {
          "output_type": "stream",
          "name": "stdout",
          "text": [
            "Accuracy of training data through RandonForestModel is : 1.0\n"
          ]
        }
      ]
    },
    {
      "cell_type": "code",
      "source": [
        "testing_data_prediction3 = model.predict(X_test)\n",
        "testing_data_accuracy3 = accuracy_score(testing_data_prediction3, Y_test)"
      ],
      "metadata": {
        "id": "XNWwcgfYh2pk"
      },
      "execution_count": 45,
      "outputs": []
    },
    {
      "cell_type": "code",
      "source": [
        "print(\"Accuracy of testing data throug RandomForestModel is :\", testing_data_accuracy3)"
      ],
      "metadata": {
        "colab": {
          "base_uri": "https://localhost:8080/"
        },
        "id": "LtYDlvpnih2c",
        "outputId": "a2437b8a-340f-4666-d75f-5605a9c8ccf4"
      },
      "execution_count": 46,
      "outputs": [
        {
          "output_type": "stream",
          "name": "stdout",
          "text": [
            "Accuracy of testing data throug RandomForestModel is : 0.9438202247191011\n"
          ]
        }
      ]
    },
    {
      "cell_type": "code",
      "source": [
        "model4 = DecisionTreeClassifier()"
      ],
      "metadata": {
        "id": "6ke9f5m_izyb"
      },
      "execution_count": 47,
      "outputs": []
    },
    {
      "cell_type": "code",
      "source": [
        "model4.fit(X_train, Y_train)"
      ],
      "metadata": {
        "colab": {
          "base_uri": "https://localhost:8080/"
        },
        "id": "-ZsZw7H5j1Ds",
        "outputId": "9968e1d2-8fba-461c-dcbb-035d68e87e0d"
      },
      "execution_count": 48,
      "outputs": [
        {
          "output_type": "execute_result",
          "data": {
            "text/plain": [
              "DecisionTreeClassifier()"
            ]
          },
          "metadata": {},
          "execution_count": 48
        }
      ]
    },
    {
      "cell_type": "code",
      "source": [
        "training_data_prediction4 = model.predict(X_train)\n",
        "training_data_accuracy4 = accuracy_score(training_data_prediction4, Y_train)"
      ],
      "metadata": {
        "id": "59QhK5LEj6Ad"
      },
      "execution_count": 49,
      "outputs": []
    },
    {
      "cell_type": "code",
      "source": [
        "print(\"Accuracy of training data through DecisionTreeClassifier is :\", training_data_accuracy4)"
      ],
      "metadata": {
        "colab": {
          "base_uri": "https://localhost:8080/"
        },
        "id": "Za5zPNBkksUH",
        "outputId": "20577f1d-801b-4330-94a4-d6f508d20bad"
      },
      "execution_count": 50,
      "outputs": [
        {
          "output_type": "stream",
          "name": "stdout",
          "text": [
            "Accuracy of training data through DecisionTreeClassifier is : 0.9605633802816902\n"
          ]
        }
      ]
    },
    {
      "cell_type": "code",
      "source": [
        "testing_data_prediction4 = model.predict(X_test)\n",
        "testing_data_accuracy4 = accuracy_score(testing_data_prediction4, Y_test)"
      ],
      "metadata": {
        "id": "5sWJy498k5UD"
      },
      "execution_count": 51,
      "outputs": []
    },
    {
      "cell_type": "code",
      "source": [
        "print(\"Accuracy of testingdata through DecisionTreeClassifier is :\", testing_data_accuracy4)"
      ],
      "metadata": {
        "colab": {
          "base_uri": "https://localhost:8080/"
        },
        "id": "H3eoDU_dlQpf",
        "outputId": "1c809137-bf63-45b4-ef46-a5d6db2b2538"
      },
      "execution_count": 52,
      "outputs": [
        {
          "output_type": "stream",
          "name": "stdout",
          "text": [
            "Accuracy of testingdata through DecisionTreeClassifier is : 0.9438202247191011\n"
          ]
        }
      ]
    }
  ]
}